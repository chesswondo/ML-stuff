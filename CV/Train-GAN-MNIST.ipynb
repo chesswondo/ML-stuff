{
  "cells": [
    {
      "cell_type": "markdown",
      "metadata": {
        "id": "1czVdIlqnImH"
      },
      "source": [
        "# Your First GAN"
      ]
    },
    {
      "cell_type": "markdown",
      "metadata": {
        "id": "1KD3ZgLs80vY"
      },
      "source": [
        "### Goal\n",
        "In this notebook, you're going to create your first generative adversarial network (GAN) for this course! Specifically, you will build and train a GAN that can generate hand-written images of digits (0-9). You will be using PyTorch in this specialization, so if you're not familiar with this framework, you may find the [PyTorch documentation](https://pytorch.org/docs/stable/index.html) useful. The hints will also often include links to relevant documentation.\n",
        "\n",
        "### Learning Objectives\n",
        "1.   Build the generator and discriminator components of a GAN from scratch.\n",
        "2.   Create generator and discriminator loss functions.\n",
        "3.   Train your GAN and visualize the generated images.\n"
      ]
    },
    {
      "cell_type": "markdown",
      "metadata": {
        "id": "wU8DDM6l9rZb"
      },
      "source": [
        "## Getting Started\n",
        "You will begin by importing some useful packages and the dataset you will use to build and train your GAN. You are also provided with a visualizer function to help you investigate the images your GAN will create.\n"
      ]
    },
    {
      "cell_type": "code",
      "execution_count": null,
      "metadata": {
        "id": "JfkorNJrnmNO"
      },
      "outputs": [],
      "source": [
        "import torch\n",
        "from torch import nn\n",
        "from tqdm.auto import tqdm\n",
        "from torchvision import transforms\n",
        "from torchvision.datasets import MNIST # Training dataset\n",
        "from torchvision.utils import make_grid\n",
        "from torch.utils.data import DataLoader\n",
        "import matplotlib.pyplot as plt\n",
        "torch.manual_seed(0) # Set for testing purposes, please do not change!\n",
        "\n",
        "def show_tensor_images(image_tensor, num_images=25, size=(1, 28, 28)):\n",
        "    '''\n",
        "    Function for visualizing images: Given a tensor of images, number of images, and\n",
        "    size per image, plots and prints the images in a uniform grid.\n",
        "    '''\n",
        "    image_unflat = image_tensor.detach().cpu().view(-1, *size)\n",
        "    image_grid = make_grid(image_unflat[:num_images], nrow=5)\n",
        "    plt.imshow(image_grid.permute(1, 2, 0).squeeze())\n",
        "    plt.show()"
      ]
    },
    {
      "cell_type": "markdown",
      "metadata": {
        "id": "Mvjjan17qHjq"
      },
      "source": [
        "#### MNIST Dataset\n",
        "The training images your discriminator will be using is from a dataset called [MNIST](http://yann.lecun.com/exdb/mnist/). It contains 60,000 images of handwritten digits, from 0 to 9, like these:\n",
        "\n",
        "![MNIST Digits](MnistExamples.png)\n",
        "\n",
        "You may notice that the images are quite pixelated -- this is because they are all only 28 x 28! The small size of its images makes MNIST ideal for simple training. Additionally, these images are also in black-and-white so only one dimension, or \"color channel\", is needed to represent them (more on this later in the course).\n",
        "\n",
        "#### Tensor\n",
        "You will represent the data using [tensors](https://pytorch.org/docs/stable/tensors.html). Tensors are a generalization of matrices: for example, a stack of three matrices with the amounts of red, green, and blue at different locations in a 64 x 64 pixel image is a tensor with the shape 3 x 64 x 64.\n",
        "\n",
        "Tensors are easy to manipulate and supported by [PyTorch](https://pytorch.org/), the machine learning library you will be using. Feel free to explore them more, but you can imagine these as multi-dimensional matrices or vectors!\n",
        "\n",
        "#### Batches\n",
        "While you could train your model after generating one image, it is extremely inefficient and leads to less stable training. In GANs, and in machine learning in general, you will process multiple images per training step. These are called batches.\n",
        "\n",
        "This means that your generator will generate an entire batch of images and receive the discriminator's feedback on each before updating the model. The same goes for the discriminator, it will calculate its loss on the entire batch of generated images as well as on the reals before the model is updated."
      ]
    },
    {
      "cell_type": "markdown",
      "metadata": {
        "id": "P1A1M6kpnfxw"
      },
      "source": [
        "## Generator\n",
        "The first step is to build the generator component.\n",
        "\n",
        "You will start by creating a function to make a single layer/block for the generator's neural network. Each block should include a [linear transformation](https://pytorch.org/docs/stable/generated/torch.nn.Linear.html) to map to another shape, a [batch normalization](https://pytorch.org/docs/stable/generated/torch.nn.BatchNorm1d.html) for stabilization, and finally a non-linear activation function (you use a [ReLU here](https://pytorch.org/docs/master/generated/torch.nn.ReLU.html)) so the output can be transformed in complex ways. You will learn more about activations and batch normalization later in the course."
      ]
    },
    {
      "cell_type": "code",
      "execution_count": null,
      "metadata": {
        "id": "bZbqdw21hK5i"
      },
      "outputs": [],
      "source": [
        "# UNQ_C1 (UNIQUE CELL IDENTIFIER, DO NOT EDIT)\n",
        "# GRADED FUNCTION: get_generator_block\n",
        "def get_generator_block(input_dim, output_dim):\n",
        "    '''\n",
        "    Function for returning a block of the generator's neural network\n",
        "    given input and output dimensions.\n",
        "    Parameters:\n",
        "        input_dim: the dimension of the input vector, a scalar\n",
        "        output_dim: the dimension of the output vector, a scalar\n",
        "    Returns:\n",
        "        a generator neural network layer, with a linear transformation\n",
        "          followed by a batch normalization and then a relu activation\n",
        "    '''\n",
        "    return nn.Sequential(\n",
        "        # Hint: Replace all of the \"None\" with the appropriate dimensions.\n",
        "        # The documentation may be useful if you're less familiar with PyTorch:\n",
        "        # https://pytorch.org/docs/stable/nn.html.\n",
        "        #### START CODE HERE ####\n",
        "        nn.Linear(input_dim, output_dim),\n",
        "        nn.BatchNorm1d(output_dim),\n",
        "        #### END CODE HERE ####\n",
        "        nn.ReLU(inplace=True)\n",
        "    )"
      ]
    },
    {
      "cell_type": "code",
      "execution_count": null,
      "metadata": {
        "colab": {
          "base_uri": "https://localhost:8080/"
        },
        "id": "GSggwl1J-XBt",
        "outputId": "3d563a90-0f31-49c5-e29b-b23fa47067b7"
      },
      "outputs": [
        {
          "output_type": "stream",
          "name": "stdout",
          "text": [
            "Success!\n"
          ]
        }
      ],
      "source": [
        "# Verify the generator block function\n",
        "def test_gen_block(in_features, out_features, num_test=1000):\n",
        "    block = get_generator_block(in_features, out_features)\n",
        "\n",
        "    # Check the three parts\n",
        "    assert len(block) == 3\n",
        "    assert type(block[0]) == nn.Linear\n",
        "    assert type(block[1]) == nn.BatchNorm1d\n",
        "    assert type(block[2]) == nn.ReLU\n",
        "\n",
        "    # Check the output shape\n",
        "    test_input = torch.randn(num_test, in_features)\n",
        "    test_output = block(test_input)\n",
        "    assert tuple(test_output.shape) == (num_test, out_features)\n",
        "    assert test_output.std() > 0.55\n",
        "    assert test_output.std() < 0.65\n",
        "\n",
        "test_gen_block(25, 12)\n",
        "test_gen_block(15, 28)\n",
        "print(\"Success!\")"
      ]
    },
    {
      "cell_type": "markdown",
      "metadata": {
        "id": "nEihsdhOrU0m"
      },
      "source": [
        "Now you can build the generator class. It will take 3 values:\n",
        "\n",
        "*   The noise vector dimension\n",
        "*   The image dimension\n",
        "*   The initial hidden dimension\n",
        "\n",
        "Using these values, the generator will build a neural network with 5 layers/blocks. Beginning with the noise vector, the generator will apply non-linear transformations via the block function until the tensor is mapped to the size of the image to be outputted (the same size as the real images from MNIST). You will need to fill in the code for final layer since it is different than the others. The final layer does not need a normalization or activation function, but does need to be scaled with a [sigmoid function](https://pytorch.org/docs/master/generated/torch.nn.Sigmoid.html).\n",
        "\n",
        "Finally, you are given a forward pass function that takes in a noise vector and generates an image of the output dimension using your neural network.\n",
        "\n",
        "<details>\n",
        "\n",
        "<summary>\n",
        "<font size=\"3\" color=\"green\">\n",
        "<b>Optional hints for <code><font size=\"4\">Generator</font></code></b>\n",
        "</font>\n",
        "</summary>\n",
        "\n",
        "1. The output size of the final linear transformation should be im_dim, but remember you need to scale the outputs between 0 and 1 using the sigmoid function.\n",
        "2. [nn.Linear](https://pytorch.org/docs/master/generated/torch.nn.Linear.html) and [nn.Sigmoid](https://pytorch.org/docs/master/generated/torch.nn.Sigmoid.html) will be useful here.\n",
        "</details>\n"
      ]
    },
    {
      "cell_type": "code",
      "execution_count": null,
      "metadata": {
        "id": "EvO7h0LYnEJZ"
      },
      "outputs": [],
      "source": [
        "# UNQ_C2 (UNIQUE CELL IDENTIFIER, DO NOT EDIT)\n",
        "# GRADED FUNCTION: Generator\n",
        "class Generator(nn.Module):\n",
        "    '''\n",
        "    Generator Class\n",
        "    Values:\n",
        "        z_dim: the dimension of the noise vector, a scalar\n",
        "        im_dim: the dimension of the images, fitted for the dataset used, a scalar\n",
        "          (MNIST images are 28 x 28 = 784 so that is your default)\n",
        "        hidden_dim: the inner dimension, a scalar\n",
        "    '''\n",
        "    def __init__(self, z_dim=10, im_dim=784, hidden_dim=128):\n",
        "        super(Generator, self).__init__()\n",
        "        # Build the neural network\n",
        "        self.gen = nn.Sequential(\n",
        "            get_generator_block(z_dim, hidden_dim),\n",
        "            get_generator_block(hidden_dim, hidden_dim * 2),\n",
        "            get_generator_block(hidden_dim * 2, hidden_dim * 4),\n",
        "            get_generator_block(hidden_dim * 4, hidden_dim * 8),\n",
        "            # There is a dropdown with hints if you need them!\n",
        "            #### START CODE HERE ####\n",
        "            nn.Linear(hidden_dim * 8, im_dim),\n",
        "            nn.Sigmoid()\n",
        "            #### END CODE HERE ####\n",
        "        )\n",
        "    def forward(self, noise):\n",
        "        '''\n",
        "        Function for completing a forward pass of the generator: Given a noise tensor,\n",
        "        returns generated images.\n",
        "        Parameters:\n",
        "            noise: a noise tensor with dimensions (n_samples, z_dim)\n",
        "        '''\n",
        "        return self.gen(noise)\n",
        "\n",
        "    # Needed for grading\n",
        "    def get_gen(self):\n",
        "        '''\n",
        "        Returns:\n",
        "            the sequential model\n",
        "        '''\n",
        "        return self.gen"
      ]
    },
    {
      "cell_type": "code",
      "execution_count": null,
      "metadata": {
        "colab": {
          "base_uri": "https://localhost:8080/"
        },
        "id": "i0UW5DetBIY8",
        "outputId": "ef625db7-8ad6-42dd-9d98-940331f08241"
      },
      "outputs": [
        {
          "output_type": "stream",
          "name": "stdout",
          "text": [
            "Success!\n"
          ]
        }
      ],
      "source": [
        "# Verify the generator class\n",
        "def test_generator(z_dim, im_dim, hidden_dim, num_test=10000):\n",
        "    gen = Generator(z_dim, im_dim, hidden_dim).get_gen()\n",
        "\n",
        "    # Check there are six modules in the sequential part\n",
        "    assert len(gen) == 6\n",
        "    test_input = torch.randn(num_test, z_dim)\n",
        "    test_output = gen(test_input)\n",
        "\n",
        "    # Check that the output shape is correct\n",
        "    assert tuple(test_output.shape) == (num_test, im_dim)\n",
        "    assert test_output.max() < 1, \"Make sure to use a sigmoid\"\n",
        "    assert test_output.min() > 0, \"Make sure to use a sigmoid\"\n",
        "    assert test_output.min() < 0.5, \"Don't use a block in your solution\"\n",
        "    assert test_output.std() > 0.05, \"Don't use batchnorm here\"\n",
        "    assert test_output.std() < 0.15, \"Don't use batchnorm here\"\n",
        "\n",
        "test_generator(5, 10, 20)\n",
        "test_generator(20, 8, 24)\n",
        "print(\"Success!\")"
      ]
    },
    {
      "cell_type": "markdown",
      "metadata": {
        "id": "6FLX69EaqRjn"
      },
      "source": [
        "## Noise\n",
        "To be able to use your generator, you will need to be able to create noise vectors. The noise vector z has the important role of making sure the images generated from the same class don't all look the same -- think of it as a random seed. You will generate it randomly using PyTorch by sampling random numbers from the normal distribution. Since multiple images will be processed per pass, you will generate all the noise vectors at once.\n",
        "\n",
        "Note that whenever you create a new tensor using torch.ones, torch.zeros, or torch.randn, you either need to create it on the target device, e.g. `torch.ones(3, 3, device=device)`, or move it onto the target device using `torch.ones(3, 3).to(device)`. You do not need to do this if you're creating a tensor by manipulating another tensor or by using a variation that defaults the device to the input, such as `torch.ones_like`. In general, use `torch.ones_like` and `torch.zeros_like` instead of `torch.ones` or `torch.zeros` where possible.\n",
        "\n",
        "<details>\n",
        "\n",
        "<summary>\n",
        "<font size=\"3\" color=\"green\">\n",
        "<b>Optional hint for <code><font size=\"4\">get_noise</font></code></b>\n",
        "</font>\n",
        "</summary>\n",
        "\n",
        "1.\n",
        "You will probably find [torch.randn](https://pytorch.org/docs/master/generated/torch.randn.html) useful here.\n",
        "</details>"
      ]
    },
    {
      "cell_type": "code",
      "execution_count": null,
      "metadata": {
        "id": "8COwJ9PkqUyd"
      },
      "outputs": [],
      "source": [
        "# UNQ_C3 (UNIQUE CELL IDENTIFIER, DO NOT EDIT)\n",
        "# GRADED FUNCTION: get_noise\n",
        "def get_noise(n_samples, z_dim, device='cpu'):\n",
        "    '''\n",
        "    Function for creating noise vectors: Given the dimensions (n_samples, z_dim),\n",
        "    creates a tensor of that shape filled with random numbers from the normal distribution.\n",
        "    Parameters:\n",
        "        n_samples: the number of samples to generate, a scalar\n",
        "        z_dim: the dimension of the noise vector, a scalar\n",
        "        device: the device type\n",
        "    '''\n",
        "    # NOTE: To use this on GPU with device='cuda', make sure to pass the device\n",
        "    # argument to the function you use to generate the noise.\n",
        "    #### START CODE HERE ####\n",
        "    return torch.randn(n_samples, z_dim, device=device)\n",
        "    #### END CODE HERE ####"
      ]
    },
    {
      "cell_type": "code",
      "execution_count": null,
      "metadata": {
        "colab": {
          "base_uri": "https://localhost:8080/"
        },
        "id": "PgWdQK-7P3qN",
        "outputId": "a333b07d-7844-4745-b492-13af5a96e18a"
      },
      "outputs": [
        {
          "output_type": "stream",
          "name": "stdout",
          "text": [
            "Success!\n"
          ]
        }
      ],
      "source": [
        "# Verify the noise vector function\n",
        "def test_get_noise(n_samples, z_dim, device='cpu'):\n",
        "    noise = get_noise(n_samples, z_dim, device)\n",
        "\n",
        "    # Make sure a normal distribution was used\n",
        "    assert tuple(noise.shape) == (n_samples, z_dim)\n",
        "    assert torch.abs(noise.std() - torch.tensor(1.0)) < 0.01\n",
        "    assert str(noise.device).startswith(device)\n",
        "\n",
        "test_get_noise(1000, 100, 'cpu')\n",
        "if torch.cuda.is_available():\n",
        "    test_get_noise(1000, 32, 'cuda')\n",
        "print(\"Success!\")"
      ]
    },
    {
      "cell_type": "markdown",
      "metadata": {
        "id": "r9fScH98nkYH"
      },
      "source": [
        "## Discriminator\n",
        "The second component that you need to construct is the discriminator. As with the generator component, you will start by creating a function that builds a neural network block for the discriminator.\n",
        "\n",
        "*Note: You use leaky ReLUs to prevent the \"dying ReLU\" problem, which refers to the phenomenon where the parameters stop changing due to consistently negative values passed to a ReLU, which result in a zero gradient. You will learn more about this in the following lectures!*\n",
        "\n",
        "\n",
        "REctified Linear Unit (ReLU) |  Leaky ReLU\n",
        ":-------------------------:|:-------------------------:\n",
        "![](https://drive.google.com/uc?export=view&id=1ePf0x1EkkK0Ll0V5lxsZQl5aJ1cEOYOr)  |  ![](https://drive.google.com/uc?export=view&id=1Qp0aiob39MKPGVw6OecYXBhhlx-c-MpB)\n",
        "\n",
        "\n",
        "\n"
      ]
    },
    {
      "cell_type": "code",
      "execution_count": null,
      "metadata": {
        "id": "sYi8YFcseYFK"
      },
      "outputs": [],
      "source": [
        "# UNQ_C4 (UNIQUE CELL IDENTIFIER, DO NOT EDIT)\n",
        "# GRADED FUNCTION: get_discriminator_block\n",
        "def get_discriminator_block(input_dim, output_dim):\n",
        "    '''\n",
        "    Discriminator Block\n",
        "    Function for returning a neural network of the discriminator given input and output dimensions.\n",
        "    Parameters:\n",
        "        input_dim: the dimension of the input vector, a scalar\n",
        "        output_dim: the dimension of the output vector, a scalar\n",
        "    Returns:\n",
        "        a discriminator neural network layer, with a linear transformation\n",
        "          followed by an nn.LeakyReLU activation with negative slope of 0.2\n",
        "          (https://pytorch.org/docs/master/generated/torch.nn.LeakyReLU.html)\n",
        "    '''\n",
        "    return nn.Sequential(\n",
        "        #### START CODE HERE ####\n",
        "        nn.Linear(input_dim, output_dim),\n",
        "        nn.LeakyReLU(negative_slope=0.2)\n",
        "        #### END CODE HERE ####\n",
        "    )"
      ]
    },
    {
      "cell_type": "code",
      "execution_count": null,
      "metadata": {
        "colab": {
          "base_uri": "https://localhost:8080/"
        },
        "id": "2r7Uh_GnCnAb",
        "outputId": "ca6d301a-96d6-4b5d-db3c-e1d634abfba4"
      },
      "outputs": [
        {
          "output_type": "stream",
          "name": "stdout",
          "text": [
            "Success!\n"
          ]
        }
      ],
      "source": [
        "# Verify the discriminator block function\n",
        "def test_disc_block(in_features, out_features, num_test=10000):\n",
        "    block = get_discriminator_block(in_features, out_features)\n",
        "\n",
        "    # Check there are two parts\n",
        "    assert len(block) == 2\n",
        "    test_input = torch.randn(num_test, in_features)\n",
        "    test_output = block(test_input)\n",
        "\n",
        "    # Check that the shape is right\n",
        "    assert tuple(test_output.shape) == (num_test, out_features)\n",
        "\n",
        "    # Check that the LeakyReLU slope is about 0.2\n",
        "    assert -test_output.min() / test_output.max() > 0.1\n",
        "    assert -test_output.min() / test_output.max() < 0.3\n",
        "    assert test_output.std() > 0.3\n",
        "    assert test_output.std() < 0.5\n",
        "\n",
        "test_disc_block(25, 12)\n",
        "test_disc_block(15, 28)\n",
        "print(\"Success!\")"
      ]
    },
    {
      "cell_type": "markdown",
      "metadata": {
        "id": "-tco9ffKnaNS"
      },
      "source": [
        "Now you can use these blocks to make a discriminator! The discriminator class holds 2 values:\n",
        "\n",
        "*   The image dimension\n",
        "*   The hidden dimension\n",
        "\n",
        "The discriminator will build a neural network with 4 layers. It will start with the image tensor and transform it until it returns a single number (1-dimension tensor) output. This output classifies whether an image is fake or real. Note that you do not need a sigmoid after the output layer since it is included in the loss function. Finally, to use your discrimator's neural network you are given a forward pass function that takes in an image tensor to be classified.\n"
      ]
    },
    {
      "cell_type": "code",
      "execution_count": null,
      "metadata": {
        "id": "aA4AxGnmpuPq"
      },
      "outputs": [],
      "source": [
        "# UNQ_C5 (UNIQUE CELL IDENTIFIER, DO NOT EDIT)\n",
        "# GRADED FUNCTION: Discriminator\n",
        "class Discriminator(nn.Module):\n",
        "    '''\n",
        "    Discriminator Class\n",
        "    Values:\n",
        "        im_dim: the dimension of the images, fitted for the dataset used, a scalar\n",
        "            (MNIST images are 28x28 = 784 so that is your default)\n",
        "        hidden_dim: the inner dimension, a scalar\n",
        "    '''\n",
        "    def __init__(self, im_dim=784, hidden_dim=128):\n",
        "        super(Discriminator, self).__init__()\n",
        "        self.disc = nn.Sequential(\n",
        "            get_discriminator_block(im_dim, hidden_dim * 4),\n",
        "            get_discriminator_block(hidden_dim * 4, hidden_dim * 2),\n",
        "            get_discriminator_block(hidden_dim * 2, hidden_dim),\n",
        "            # Hint: You want to transform the final output into a single value,\n",
        "            #       so add one more linear map.\n",
        "            #### START CODE HERE ####\n",
        "            nn.Linear(hidden_dim, 1)\n",
        "            #### END CODE HERE ####\n",
        "        )\n",
        "\n",
        "    def forward(self, image):\n",
        "        '''\n",
        "        Function for completing a forward pass of the discriminator: Given an image tensor,\n",
        "        returns a 1-dimension tensor representing fake/real.\n",
        "        Parameters:\n",
        "            image: a flattened image tensor with dimension (im_dim)\n",
        "        '''\n",
        "        return self.disc(image)\n",
        "\n",
        "    # Needed for grading\n",
        "    def get_disc(self):\n",
        "        '''\n",
        "        Returns:\n",
        "            the sequential model\n",
        "        '''\n",
        "        return self.disc"
      ]
    },
    {
      "cell_type": "code",
      "execution_count": null,
      "metadata": {
        "colab": {
          "base_uri": "https://localhost:8080/"
        },
        "id": "tiBuVStCUUB7",
        "outputId": "869b2bb1-61f8-4a9b-c0d1-58dee41867ee"
      },
      "outputs": [
        {
          "output_type": "stream",
          "name": "stdout",
          "text": [
            "Success!\n"
          ]
        }
      ],
      "source": [
        "# Verify the discriminator class\n",
        "def test_discriminator(z_dim, hidden_dim, num_test=100):\n",
        "\n",
        "    disc = Discriminator(z_dim, hidden_dim).get_disc()\n",
        "\n",
        "    # Check there are three parts\n",
        "    assert len(disc) == 4\n",
        "\n",
        "    # Check the linear layer is correct\n",
        "    test_input = torch.randn(num_test, z_dim)\n",
        "    test_output = disc(test_input)\n",
        "    assert tuple(test_output.shape) == (num_test, 1)\n",
        "\n",
        "    # Don't use a block\n",
        "    assert not isinstance(disc[-1], nn.Sequential)\n",
        "\n",
        "test_discriminator(5, 10)\n",
        "test_discriminator(20, 8)\n",
        "print(\"Success!\")"
      ]
    },
    {
      "cell_type": "markdown",
      "metadata": {
        "id": "qRk_8azSq3tF"
      },
      "source": [
        "## Training\n",
        "Now you can put it all together!\n",
        "First, you will set your parameters:\n",
        "  *   criterion: the loss function\n",
        "  *   n_epochs: the number of times you iterate through the entire dataset when training\n",
        "  *   z_dim: the dimension of the noise vector\n",
        "  *   display_step: how often to display/visualize the images\n",
        "  *   batch_size: the number of images per forward/backward pass\n",
        "  *   lr: the learning rate\n",
        "  *   device: the device type, here using a GPU (which runs CUDA), not CPU\n",
        "\n",
        "Next, you will load the MNIST dataset as tensors using a dataloader.\n",
        "\n"
      ]
    },
    {
      "cell_type": "code",
      "execution_count": null,
      "metadata": {
        "id": "IFLQ039u-qdu"
      },
      "outputs": [],
      "source": [
        "# Set your parameters\n",
        "criterion = nn.BCEWithLogitsLoss()\n",
        "n_epochs = 200\n",
        "z_dim = 64\n",
        "display_step = 500\n",
        "batch_size = 128\n",
        "lr = 0.00001\n",
        "\n",
        "# Load MNIST dataset as tensors\n",
        "dataloader = DataLoader(\n",
        "    MNIST('.', download=True, transform=transforms.ToTensor()),\n",
        "    batch_size=batch_size,\n",
        "    shuffle=True)\n",
        "\n",
        "### DO NOT EDIT ###\n",
        "device = 'cpu'"
      ]
    },
    {
      "cell_type": "markdown",
      "metadata": {
        "id": "24Var22i_Ccs"
      },
      "source": [
        "Now, you can initialize your generator, discriminator, and optimizers. Note that each optimizer only takes the parameters of one particular model, since we want each optimizer to optimize only one of the models."
      ]
    },
    {
      "cell_type": "code",
      "execution_count": null,
      "metadata": {
        "id": "sDFRZ8tg_Y57"
      },
      "outputs": [],
      "source": [
        "gen = Generator(z_dim).to(device)\n",
        "gen_opt = torch.optim.Adam(gen.parameters(), lr=lr)\n",
        "disc = Discriminator().to(device)\n",
        "disc_opt = torch.optim.Adam(disc.parameters(), lr=lr)"
      ]
    },
    {
      "cell_type": "markdown",
      "metadata": {
        "id": "7iCTg3w4_Zw6"
      },
      "source": [
        "Before you train your GAN, you will need to create functions to calculate the discriminator's loss and the generator's loss. This is how the discriminator and generator will know how they are doing and improve themselves. Since the generator is needed when calculating the discriminator's loss, you will need to call .detach() on the generator result to ensure that only the discriminator is updated!\n",
        "\n",
        "Remember that you have already defined a loss function earlier (`criterion`) and you are encouraged to use `torch.ones_like` and `torch.zeros_like` instead of `torch.ones` or `torch.zeros`. If you use `torch.ones` or `torch.zeros`, you'll need to pass `device=device` to them."
      ]
    },
    {
      "cell_type": "code",
      "execution_count": null,
      "metadata": {
        "id": "CYzBtiYyz8IJ"
      },
      "outputs": [],
      "source": [
        "# UNQ_C6 (UNIQUE CELL IDENTIFIER, DO NOT EDIT)\n",
        "# GRADED FUNCTION: get_disc_loss\n",
        "def get_disc_loss(gen, disc, criterion, real, num_images, z_dim, device):\n",
        "    '''\n",
        "    Return the loss of the discriminator given inputs.\n",
        "    Parameters:\n",
        "        gen: the generator model, which returns an image given z-dimensional noise\n",
        "        disc: the discriminator model, which returns a single-dimensional prediction of real/fake\n",
        "        criterion: the loss function, which should be used to compare\n",
        "               the discriminator's predictions to the ground truth reality of the images\n",
        "               (e.g. fake = 0, real = 1)\n",
        "        real: a batch of real images\n",
        "        num_images: the number of images the generator should produce,\n",
        "                which is also the length of the real images\n",
        "        z_dim: the dimension of the noise vector, a scalar\n",
        "        device: the device type\n",
        "    Returns:\n",
        "        disc_loss: a torch scalar loss value for the current batch\n",
        "    '''\n",
        "    #     These are the steps you will need to complete:\n",
        "    #       1) Create noise vectors and generate a batch (num_images) of fake images.\n",
        "    #            Make sure to pass the device argument to the noise.\n",
        "    #       2) Get the discriminator's prediction of the fake image\n",
        "    #            and calculate the loss. Don't forget to detach the generator!\n",
        "    #            (Remember the loss function you set earlier -- criterion. You need a\n",
        "    #            'ground truth' tensor in order to calculate the loss.\n",
        "    #            For example, a ground truth tensor for a fake image is all zeros.)\n",
        "    #       3) Get the discriminator's prediction of the real image and calculate the loss.\n",
        "    #       4) Calculate the discriminator's loss by averaging the real and fake loss\n",
        "    #            and set it to disc_loss.\n",
        "    #     *Important*: You should NOT write your own loss function here - use criterion(pred, true)!\n",
        "    #### START CODE HERE ####\n",
        "    noise_vectors = get_noise(num_images, z_dim, device=device)\n",
        "    batch_fake_images = gen(noise_vectors)\n",
        "    disc_prediction = disc(batch_fake_images.detach())\n",
        "    fake_loss = criterion(disc_prediction, torch.zeros_like(disc_prediction))\n",
        "    real_prediction = disc(real)\n",
        "    real_loss = criterion(real_prediction, torch.ones_like(disc_prediction))\n",
        "    disc_loss = (real_loss+fake_loss)/2\n",
        "    #### END CODE HERE ####\n",
        "    return disc_loss"
      ]
    },
    {
      "cell_type": "code",
      "execution_count": null,
      "metadata": {
        "colab": {
          "base_uri": "https://localhost:8080/"
        },
        "id": "wjyIY7XUEpbu",
        "outputId": "6a9f2d38-676b-4b92-a39b-cfe3a2739c6b"
      },
      "outputs": [
        {
          "output_type": "stream",
          "name": "stdout",
          "text": [
            "Success!\n"
          ]
        }
      ],
      "source": [
        "def test_disc_reasonable(num_images=10):\n",
        "    # Don't use explicit casts to cuda - use the device argument\n",
        "    import inspect, re\n",
        "    lines = inspect.getsource(get_disc_loss)\n",
        "    assert (re.search(r\"to\\(.cuda.\\)\", lines)) is None\n",
        "    assert (re.search(r\"\\.cuda\\(\\)\", lines)) is None\n",
        "\n",
        "    z_dim = 64\n",
        "    gen = torch.zeros_like\n",
        "    disc = lambda x: x.mean(1)[:, None]\n",
        "    criterion = torch.mul # Multiply\n",
        "    real = torch.ones(num_images, z_dim)\n",
        "    disc_loss = get_disc_loss(gen, disc, criterion, real, num_images, z_dim, 'cpu')\n",
        "    assert torch.all(torch.abs(disc_loss.mean() - 0.5) < 1e-5)\n",
        "\n",
        "    gen = torch.ones_like\n",
        "    criterion = torch.mul # Multiply\n",
        "    real = torch.zeros(num_images, z_dim)\n",
        "    assert torch.all(torch.abs(get_disc_loss(gen, disc, criterion, real, num_images, z_dim, 'cpu')) < 1e-5)\n",
        "\n",
        "    gen = lambda x: torch.ones(num_images, 10)\n",
        "    disc = lambda x: x.mean(1)[:, None] + 10\n",
        "    criterion = torch.mul # Multiply\n",
        "    real = torch.zeros(num_images, 10)\n",
        "    assert torch.all(torch.abs(get_disc_loss(gen, disc, criterion, real, num_images, z_dim, 'cpu').mean() - 5) < 1e-5)\n",
        "\n",
        "    gen = torch.ones_like\n",
        "    disc = nn.Linear(64, 1, bias=False)\n",
        "    real = torch.ones(num_images, 64) * 0.5\n",
        "    disc.weight.data = torch.ones_like(disc.weight.data) * 0.5\n",
        "    disc_opt = torch.optim.Adam(disc.parameters(), lr=lr)\n",
        "    criterion = lambda x, y: torch.sum(x) + torch.sum(y)\n",
        "    disc_loss = get_disc_loss(gen, disc, criterion, real, num_images, z_dim, 'cpu').mean()\n",
        "    disc_loss.backward()\n",
        "    assert torch.isclose(torch.abs(disc.weight.grad.mean() - 11.25), torch.tensor(3.75))\n",
        "\n",
        "def test_disc_loss(max_tests = 10):\n",
        "    z_dim = 64\n",
        "    gen = Generator(z_dim).to(device)\n",
        "    gen_opt = torch.optim.Adam(gen.parameters(), lr=lr)\n",
        "    disc = Discriminator().to(device)\n",
        "    disc_opt = torch.optim.Adam(disc.parameters(), lr=lr)\n",
        "    num_steps = 0\n",
        "    for real, _ in dataloader:\n",
        "        cur_batch_size = len(real)\n",
        "        real = real.view(cur_batch_size, -1).to(device)\n",
        "\n",
        "        ### Update discriminator ###\n",
        "        # Zero out the gradient before backpropagation\n",
        "        disc_opt.zero_grad()\n",
        "\n",
        "        # Calculate discriminator loss\n",
        "        disc_loss = get_disc_loss(gen, disc, criterion, real, cur_batch_size, z_dim, device)\n",
        "        assert (disc_loss - 0.68).abs() < 0.05\n",
        "\n",
        "        # Update gradients\n",
        "        disc_loss.backward(retain_graph=True)\n",
        "\n",
        "        # Check that they detached correctly\n",
        "        assert gen.gen[0][0].weight.grad is None\n",
        "\n",
        "        # Update optimizer\n",
        "        old_weight = disc.disc[0][0].weight.data.clone()\n",
        "        disc_opt.step()\n",
        "        new_weight = disc.disc[0][0].weight.data\n",
        "\n",
        "        # Check that some discriminator weights changed\n",
        "        assert not torch.all(torch.eq(old_weight, new_weight))\n",
        "        num_steps += 1\n",
        "        if num_steps >= max_tests:\n",
        "            break\n",
        "\n",
        "test_disc_reasonable()\n",
        "test_disc_loss()\n",
        "print(\"Success!\")\n"
      ]
    },
    {
      "cell_type": "code",
      "execution_count": null,
      "metadata": {
        "id": "zV_8i6y30nTE"
      },
      "outputs": [],
      "source": [
        "# UNQ_C7 (UNIQUE CELL IDENTIFIER, DO NOT EDIT)\n",
        "# GRADED FUNCTION: get_gen_loss\n",
        "def get_gen_loss(gen, disc, criterion, num_images, z_dim, device):\n",
        "    '''\n",
        "    Return the loss of the generator given inputs.\n",
        "    Parameters:\n",
        "        gen: the generator model, which returns an image given z-dimensional noise\n",
        "        disc: the discriminator model, which returns a single-dimensional prediction of real/fake\n",
        "        criterion: the loss function, which should be used to compare\n",
        "               the discriminator's predictions to the ground truth reality of the images\n",
        "               (e.g. fake = 0, real = 1)\n",
        "        num_images: the number of images the generator should produce,\n",
        "                which is also the length of the real images\n",
        "        z_dim: the dimension of the noise vector, a scalar\n",
        "        device: the device type\n",
        "    Returns:\n",
        "        gen_loss: a torch scalar loss value for the current batch\n",
        "    '''\n",
        "    #     These are the steps you will need to complete:\n",
        "    #       1) Create noise vectors and generate a batch of fake images.\n",
        "    #           Remember to pass the device argument to the get_noise function.\n",
        "    #       2) Get the discriminator's prediction of the fake image.\n",
        "    #       3) Calculate the generator's loss. Remember the generator wants\n",
        "    #          the discriminator to think that its fake images are real\n",
        "    #     *Important*: You should NOT write your own loss function here - use criterion(pred, true)!\n",
        "\n",
        "    #### START CODE HERE ####\n",
        "    noise_vectors = get_noise(num_images, z_dim, device=device)\n",
        "    batch_fake_images = gen(noise_vectors)\n",
        "    disc_prediction = disc(batch_fake_images)\n",
        "    gen_loss = criterion(disc_prediction, torch.ones_like(disc_prediction))\n",
        "    #### END CODE HERE ####\n",
        "    return gen_loss"
      ]
    },
    {
      "cell_type": "code",
      "execution_count": null,
      "metadata": {
        "colab": {
          "base_uri": "https://localhost:8080/"
        },
        "id": "KFiwoJu-G0l9",
        "outputId": "1206b9a7-9c6a-4309-bd83-32685146e54c"
      },
      "outputs": [
        {
          "output_type": "stream",
          "name": "stdout",
          "text": [
            "Success!\n"
          ]
        }
      ],
      "source": [
        "def test_gen_reasonable(num_images=10):\n",
        "    # Don't use explicit casts to cuda - use the device argument\n",
        "    import inspect, re\n",
        "    lines = inspect.getsource(get_gen_loss)\n",
        "    assert (re.search(r\"to\\(.cuda.\\)\", lines)) is None\n",
        "    assert (re.search(r\"\\.cuda\\(\\)\", lines)) is None\n",
        "\n",
        "    z_dim = 64\n",
        "    gen = torch.zeros_like\n",
        "    disc = nn.Identity()\n",
        "    criterion = torch.mul # Multiply\n",
        "    gen_loss_tensor = get_gen_loss(gen, disc, criterion, num_images, z_dim, 'cpu')\n",
        "    assert torch.all(torch.abs(gen_loss_tensor) < 1e-5)\n",
        "    #Verify shape. Related to gen_noise parametrization\n",
        "    assert tuple(gen_loss_tensor.shape) == (num_images, z_dim)\n",
        "\n",
        "    gen = torch.ones_like\n",
        "    disc = nn.Identity()\n",
        "    criterion = torch.mul # Multiply\n",
        "    gen_loss_tensor = get_gen_loss(gen, disc, criterion, num_images, z_dim, 'cpu')\n",
        "    assert torch.all(torch.abs(gen_loss_tensor - 1) < 1e-5)\n",
        "    #Verify shape. Related to gen_noise parametrization\n",
        "    assert tuple(gen_loss_tensor.shape) == (num_images, z_dim)\n",
        "\n",
        "\n",
        "def test_gen_loss(num_images):\n",
        "    z_dim = 64\n",
        "    gen = Generator(z_dim).to(device)\n",
        "    gen_opt = torch.optim.Adam(gen.parameters(), lr=lr)\n",
        "    disc = Discriminator().to(device)\n",
        "    disc_opt = torch.optim.Adam(disc.parameters(), lr=lr)\n",
        "\n",
        "    gen_loss = get_gen_loss(gen, disc, criterion, num_images, z_dim, device)\n",
        "\n",
        "    # Check that the loss is reasonable\n",
        "    assert (gen_loss - 0.7).abs() < 0.1\n",
        "    gen_loss.backward()\n",
        "    old_weight = gen.gen[0][0].weight.clone()\n",
        "    gen_opt.step()\n",
        "    new_weight = gen.gen[0][0].weight\n",
        "    assert not torch.all(torch.eq(old_weight, new_weight))\n",
        "\n",
        "\n",
        "test_gen_reasonable(10)\n",
        "test_gen_loss(18)\n",
        "print(\"Success!\")"
      ]
    },
    {
      "cell_type": "markdown",
      "metadata": {
        "id": "Vua5_hRMRb60"
      },
      "source": [
        "Finally, you can put everything together! For each epoch, you will process the entire dataset in batches. For every batch, you will need to update the discriminator and generator using their loss. Batches are sets of images that will be predicted on before the loss functions are calculated (instead of calculating the loss function after each image). Note that you may see a loss to be greater than 1, this is okay since binary cross entropy loss can be any positive number for a sufficiently confident wrong guess.\n",
        "\n",
        "It’s also often the case that the discriminator will outperform the generator, especially at the start, because its job is easier. It's important that neither one gets too good (that is, near-perfect accuracy), which would cause the entire model to stop learning. Balancing the two models is actually remarkably hard to do in a standard GAN and something you will see more of in later lectures and assignments.\n",
        "\n",
        "After you've submitted a working version with the original architecture, feel free to play around with the architecture if you want to see how different architectural choices can lead to better or worse GANs. For example, consider changing the size of the hidden dimension, or making the networks shallower or deeper by changing the number of layers.\n",
        "\n",
        "<!-- In addition, be warned that this runs very slowly on a CPU. One way to run this more quickly is to use Google Colab:\n",
        "\n",
        "1.   Download the .ipynb\n",
        "2.   Upload it to Google Drive and open it with Google Colab\n",
        "3.   Make the runtime type GPU (under “Runtime” -> “Change runtime type” -> Select “GPU” from the dropdown)\n",
        "4.   Replace `device = \"cpu\"` with `device = \"cuda\"`\n",
        "5.   Make sure your `get_noise` function uses the right device -->\n",
        "\n",
        "But remember, don’t expect anything spectacular: this is only the first lesson. The results will get better with later lessons as you learn methods to help keep your generator and discriminator at similar levels."
      ]
    },
    {
      "cell_type": "markdown",
      "metadata": {
        "id": "w3RVHTAvTlod"
      },
      "source": [
        "You should roughly expect to see this progression. On a GPU, this should take about 15 seconds per 500 steps, on average, while on CPU it will take roughly 1.5 minutes:\n",
        "![MNIST Digits](https://drive.google.com/uc?export=view&id=1BlfFNZACaieFrOjMv_o2kGqwAR6eiLmN)"
      ]
    },
    {
      "cell_type": "code",
      "execution_count": null,
      "metadata": {
        "colab": {
          "base_uri": "https://localhost:8080/",
          "height": 603,
          "referenced_widgets": [
            "c18edd0eff0e424a9f1df6b9face3f44",
            "028572de33e748b1a4a1b671211759e3",
            "d5ef7b0b036e4a0f8c2a2cbe83243bf3",
            "d9b1d771d6ca41998e7c9ece0cb0ea96",
            "e55d49f7042847deafc424dda0d01a41",
            "0dc56b73b9ec424f953bced88e167d64",
            "2fd1b70474bd42f18b238337c2a14e07",
            "7996cfecdf9041adb9d7a00025f58182",
            "51c7b8c847e044c3a4978d25fa2654a3",
            "cfcfafc3ac3641bba5f88240256b36bd",
            "5588cb57910b47339b31f0437231fcad",
            "18efa44742ab4addb96b358a0037eb31",
            "2c6b3de4825a4141b58a0cf739c21a5e",
            "9a7f89d337424746a19681395c122216",
            "5f2e91a2e14244bbba3d31fcbdf0b499",
            "66fa604d05804ab29390363dd64f1671",
            "e68cbf0629884ba298ac5edb50f0a183",
            "79746963b88748438f678ef1976e9564",
            "0e1c975daa96457297a354b5a583abdd",
            "4f212ae15f384ff294300a43e71cba4a",
            "e7593bf620354deab56af8da45ac8c19",
            "0efcb7101e354042a8434e274b2835a4"
          ]
        },
        "id": "UXptQZcwrBrq",
        "outputId": "7f6ac7ec-381d-4034-f6f7-370834c50ee2"
      },
      "outputs": [
        {
          "output_type": "display_data",
          "data": {
            "text/plain": [
              "  0%|          | 0/469 [00:00<?, ?it/s]"
            ],
            "application/vnd.jupyter.widget-view+json": {
              "version_major": 2,
              "version_minor": 0,
              "model_id": "c18edd0eff0e424a9f1df6b9face3f44"
            }
          },
          "metadata": {}
        },
        {
          "output_type": "display_data",
          "data": {
            "text/plain": [
              "  0%|          | 0/469 [00:00<?, ?it/s]"
            ],
            "application/vnd.jupyter.widget-view+json": {
              "version_major": 2,
              "version_minor": 0,
              "model_id": "18efa44742ab4addb96b358a0037eb31"
            }
          },
          "metadata": {}
        },
        {
          "output_type": "stream",
          "name": "stdout",
          "text": [
            "Step 500: Generator loss: 1.3771593300104146, discriminator loss: 0.4273405186533928\n"
          ]
        },
        {
          "output_type": "display_data",
          "data": {
            "text/plain": [
              "<Figure size 432x288 with 1 Axes>"
            ],
            "image/png": "[encoded data removed]"
          },
          "metadata": {
            "needs_background": "light"
          }
        },
        {
          "output_type": "display_data",
          "data": {
            "text/plain": [
              "<Figure size 432x288 with 1 Axes>"
            ],
            "image/png": "[encoded data removed]"
          },
          "metadata": {
            "needs_background": "light"
          }
        }
      ],
      "source": [
        "# OPTIONAL PART\n",
        "\n",
        "cur_step = 0\n",
        "mean_generator_loss = 0\n",
        "mean_discriminator_loss = 0\n",
        "test_generator = True # Whether the generator should be tested\n",
        "gen_loss = False\n",
        "error = False\n",
        "for epoch in range(n_epochs):\n",
        "\n",
        "    # Dataloader returns the batches\n",
        "    for real, _ in tqdm(dataloader):\n",
        "        cur_batch_size = len(real)\n",
        "\n",
        "        # Flatten the batch of real images from the dataset\n",
        "        real = real.view(cur_batch_size, -1).to(device)\n",
        "\n",
        "        ### Update discriminator ###\n",
        "        # Zero out the gradients before backpropagation\n",
        "        disc_opt.zero_grad()\n",
        "\n",
        "        # Calculate discriminator loss\n",
        "        disc_loss = get_disc_loss(gen, disc, criterion, real, cur_batch_size, z_dim, device)\n",
        "\n",
        "        # Update gradients\n",
        "        disc_loss.backward(retain_graph=True)\n",
        "\n",
        "        # Update optimizer\n",
        "        disc_opt.step()\n",
        "\n",
        "        # For testing purposes, to keep track of the generator weights\n",
        "        if test_generator:\n",
        "            old_generator_weights = gen.gen[0][0].weight.detach().clone()\n",
        "\n",
        "        ### Update generator ###\n",
        "        #     Hint: This code will look a lot like the discriminator updates!\n",
        "        #     These are the steps you will need to complete:\n",
        "        #       1) Zero out the gradients.\n",
        "        #       2) Calculate the generator loss, assigning it to gen_loss.\n",
        "        #       3) Backprop through the generator: update the gradients and optimizer.\n",
        "        #### START CODE HERE ####\n",
        "        gen_opt.zero_grad()\n",
        "        gen_loss = get_gen_loss(gen, disc, criterion, cur_batch_size, z_dim, device)\n",
        "        gen_loss.backward(retain_graph=True)\n",
        "        gen_opt.step()\n",
        "        #### END CODE HERE ####\n",
        "\n",
        "        # For testing purposes, to check that your code changes the generator weights\n",
        "        if test_generator:\n",
        "            try:\n",
        "                assert lr > 0.0000002 or (gen.gen[0][0].weight.grad.abs().max() < 0.0005 and epoch == 0)\n",
        "                assert torch.any(gen.gen[0][0].weight.detach().clone() != old_generator_weights)\n",
        "            except:\n",
        "                error = True\n",
        "                print(\"Runtime tests have failed\")\n",
        "\n",
        "        # Keep track of the average discriminator loss\n",
        "        mean_discriminator_loss += disc_loss.item() / display_step\n",
        "\n",
        "        # Keep track of the average generator loss\n",
        "        mean_generator_loss += gen_loss.item() / display_step\n",
        "\n",
        "        ### Visualization code ###\n",
        "        if cur_step % display_step == 0 and cur_step > 0:\n",
        "            print(f\"Step {cur_step}: Generator loss: {mean_generator_loss}, discriminator loss: {mean_discriminator_loss}\")\n",
        "            fake_noise = get_noise(cur_batch_size, z_dim, device=device)\n",
        "            fake = gen(fake_noise)\n",
        "            show_tensor_images(fake)\n",
        "            show_tensor_images(real)\n",
        "            mean_generator_loss = 0\n",
        "            mean_discriminator_loss = 0\n",
        "        cur_step += 1\n"
      ]
    },
    {
      "cell_type": "markdown",
      "metadata": {
        "id": "gMeAd-UOUUCN"
      },
      "source": [
        "If you don't get any runtime error, it means that your code works. We check that the weights are changing in each iteration within the function.\n",
        "\n",
        "**Congratulations, you have trained your first GAN**"
      ]
    }
  ],
  "metadata": {
    "kernelspec": {
      "display_name": "Python 3",
      "language": "python",
      "name": "python3"
    },
    "language_info": {
      "codemirror_mode": {
        "name": "ipython",
        "version": 3
      },
      "file_extension": ".py",
      "mimetype": "text/x-python",
      "name": "python",
      "nbconvert_exporter": "python",
      "pygments_lexer": "ipython3",
      "version": "3.6.9"
    },
    "colab": {
      "provenance": []
    },
    "widgets": {
      "application/vnd.jupyter.widget-state+json": {
        "c18edd0eff0e424a9f1df6b9face3f44": {
          "model_module": "@jupyter-widgets/controls",
          "model_name": "HBoxModel",
          "model_module_version": "1.5.0",
          "state": {
            "_dom_classes": [],
            "_model_module": "@jupyter-widgets/controls",
            "_model_module_version": "1.5.0",
            "_model_name": "HBoxModel",
            "_view_count": null,
            "_view_module": "@jupyter-widgets/controls",
            "_view_module_version": "1.5.0",
            "_view_name": "HBoxView",
            "box_style": "",
            "children": [
              "IPY_MODEL_028572de33e748b1a4a1b671211759e3",
              "IPY_MODEL_d5ef7b0b036e4a0f8c2a2cbe83243bf3",
              "IPY_MODEL_d9b1d771d6ca41998e7c9ece0cb0ea96"
            ],
            "layout": "IPY_MODEL_e55d49f7042847deafc424dda0d01a41"
          }
        },
        "028572de33e748b1a4a1b671211759e3": {
          "model_module": "@jupyter-widgets/controls",
          "model_name": "HTMLModel",
          "model_module_version": "1.5.0",
          "state": {
            "_dom_classes": [],
            "_model_module": "@jupyter-widgets/controls",
            "_model_module_version": "1.5.0",
            "_model_name": "HTMLModel",
            "_view_count": null,
            "_view_module": "@jupyter-widgets/controls",
            "_view_module_version": "1.5.0",
            "_view_name": "HTMLView",
            "description": "",
            "description_tooltip": null,
            "layout": "IPY_MODEL_0dc56b73b9ec424f953bced88e167d64",
            "placeholder": "​",
            "style": "IPY_MODEL_2fd1b70474bd42f18b238337c2a14e07",
            "value": "100%"
          }
        },
        "d5ef7b0b036e4a0f8c2a2cbe83243bf3": {
          "model_module": "@jupyter-widgets/controls",
          "model_name": "FloatProgressModel",
          "model_module_version": "1.5.0",
          "state": {
            "_dom_classes": [],
            "_model_module": "@jupyter-widgets/controls",
            "_model_module_version": "1.5.0",
            "_model_name": "FloatProgressModel",
            "_view_count": null,
            "_view_module": "@jupyter-widgets/controls",
            "_view_module_version": "1.5.0",
            "_view_name": "ProgressView",
            "bar_style": "success",
            "description": "",
            "description_tooltip": null,
            "layout": "IPY_MODEL_7996cfecdf9041adb9d7a00025f58182",
            "max": 469,
            "min": 0,
            "orientation": "horizontal",
            "style": "IPY_MODEL_51c7b8c847e044c3a4978d25fa2654a3",
            "value": 469
          }
        },
        "d9b1d771d6ca41998e7c9ece0cb0ea96": {
          "model_module": "@jupyter-widgets/controls",
          "model_name": "HTMLModel",
          "model_module_version": "1.5.0",
          "state": {
            "_dom_classes": [],
            "_model_module": "@jupyter-widgets/controls",
            "_model_module_version": "1.5.0",
            "_model_name": "HTMLModel",
            "_view_count": null,
            "_view_module": "@jupyter-widgets/controls",
            "_view_module_version": "1.5.0",
            "_view_name": "HTMLView",
            "description": "",
            "description_tooltip": null,
            "layout": "IPY_MODEL_cfcfafc3ac3641bba5f88240256b36bd",
            "placeholder": "​",
            "style": "IPY_MODEL_5588cb57910b47339b31f0437231fcad",
            "value": " 469/469 [00:58&lt;00:00,  9.22it/s]"
          }
        },
        "e55d49f7042847deafc424dda0d01a41": {
          "model_module": "@jupyter-widgets/base",
          "model_name": "LayoutModel",
          "model_module_version": "1.2.0",
          "state": {
            "_model_module": "@jupyter-widgets/base",
            "_model_module_version": "1.2.0",
            "_model_name": "LayoutModel",
            "_view_count": null,
            "_view_module": "@jupyter-widgets/base",
            "_view_module_version": "1.2.0",
            "_view_name": "LayoutView",
            "align_content": null,
            "align_items": null,
            "align_self": null,
            "border": null,
            "bottom": null,
            "display": null,
            "flex": null,
            "flex_flow": null,
            "grid_area": null,
            "grid_auto_columns": null,
            "grid_auto_flow": null,
            "grid_auto_rows": null,
            "grid_column": null,
            "grid_gap": null,
            "grid_row": null,
            "grid_template_areas": null,
            "grid_template_columns": null,
            "grid_template_rows": null,
            "height": null,
            "justify_content": null,
            "justify_items": null,
            "left": null,
            "margin": null,
            "max_height": null,
            "max_width": null,
            "min_height": null,
            "min_width": null,
            "object_fit": null,
            "object_position": null,
            "order": null,
            "overflow": null,
            "overflow_x": null,
            "overflow_y": null,
            "padding": null,
            "right": null,
            "top": null,
            "visibility": null,
            "width": null
          }
        },
        "0dc56b73b9ec424f953bced88e167d64": {
          "model_module": "@jupyter-widgets/base",
          "model_name": "LayoutModel",
          "model_module_version": "1.2.0",
          "state": {
            "_model_module": "@jupyter-widgets/base",
            "_model_module_version": "1.2.0",
            "_model_name": "LayoutModel",
            "_view_count": null,
            "_view_module": "@jupyter-widgets/base",
            "_view_module_version": "1.2.0",
            "_view_name": "LayoutView",
            "align_content": null,
            "align_items": null,
            "align_self": null,
            "border": null,
            "bottom": null,
            "display": null,
            "flex": null,
            "flex_flow": null,
            "grid_area": null,
            "grid_auto_columns": null,
            "grid_auto_flow": null,
            "grid_auto_rows": null,
            "grid_column": null,
            "grid_gap": null,
            "grid_row": null,
            "grid_template_areas": null,
            "grid_template_columns": null,
            "grid_template_rows": null,
            "height": null,
            "justify_content": null,
            "justify_items": null,
            "left": null,
            "margin": null,
            "max_height": null,
            "max_width": null,
            "min_height": null,
            "min_width": null,
            "object_fit": null,
            "object_position": null,
            "order": null,
            "overflow": null,
            "overflow_x": null,
            "overflow_y": null,
            "padding": null,
            "right": null,
            "top": null,
            "visibility": null,
            "width": null
          }
        },
        "2fd1b70474bd42f18b238337c2a14e07": {
          "model_module": "@jupyter-widgets/controls",
          "model_name": "DescriptionStyleModel",
          "model_module_version": "1.5.0",
          "state": {
            "_model_module": "@jupyter-widgets/controls",
            "_model_module_version": "1.5.0",
            "_model_name": "DescriptionStyleModel",
            "_view_count": null,
            "_view_module": "@jupyter-widgets/base",
            "_view_module_version": "1.2.0",
            "_view_name": "StyleView",
            "description_width": ""
          }
        },
        "7996cfecdf9041adb9d7a00025f58182": {
          "model_module": "@jupyter-widgets/base",
          "model_name": "LayoutModel",
          "model_module_version": "1.2.0",
          "state": {
            "_model_module": "@jupyter-widgets/base",
            "_model_module_version": "1.2.0",
            "_model_name": "LayoutModel",
            "_view_count": null,
            "_view_module": "@jupyter-widgets/base",
            "_view_module_version": "1.2.0",
            "_view_name": "LayoutView",
            "align_content": null,
            "align_items": null,
            "align_self": null,
            "border": null,
            "bottom": null,
            "display": null,
            "flex": null,
            "flex_flow": null,
            "grid_area": null,
            "grid_auto_columns": null,
            "grid_auto_flow": null,
            "grid_auto_rows": null,
            "grid_column": null,
            "grid_gap": null,
            "grid_row": null,
            "grid_template_areas": null,
            "grid_template_columns": null,
            "grid_template_rows": null,
            "height": null,
            "justify_content": null,
            "justify_items": null,
            "left": null,
            "margin": null,
            "max_height": null,
            "max_width": null,
            "min_height": null,
            "min_width": null,
            "object_fit": null,
            "object_position": null,
            "order": null,
            "overflow": null,
            "overflow_x": null,
            "overflow_y": null,
            "padding": null,
            "right": null,
            "top": null,
            "visibility": null,
            "width": null
          }
        },
        "51c7b8c847e044c3a4978d25fa2654a3": {
          "model_module": "@jupyter-widgets/controls",
          "model_name": "ProgressStyleModel",
          "model_module_version": "1.5.0",
          "state": {
            "_model_module": "@jupyter-widgets/controls",
            "_model_module_version": "1.5.0",
            "_model_name": "ProgressStyleModel",
            "_view_count": null,
            "_view_module": "@jupyter-widgets/base",
            "_view_module_version": "1.2.0",
            "_view_name": "StyleView",
            "bar_color": null,
            "description_width": ""
          }
        },
        "cfcfafc3ac3641bba5f88240256b36bd": {
          "model_module": "@jupyter-widgets/base",
          "model_name": "LayoutModel",
          "model_module_version": "1.2.0",
          "state": {
            "_model_module": "@jupyter-widgets/base",
            "_model_module_version": "1.2.0",
            "_model_name": "LayoutModel",
            "_view_count": null,
            "_view_module": "@jupyter-widgets/base",
            "_view_module_version": "1.2.0",
            "_view_name": "LayoutView",
            "align_content": null,
            "align_items": null,
            "align_self": null,
            "border": null,
            "bottom": null,
            "display": null,
            "flex": null,
            "flex_flow": null,
            "grid_area": null,
            "grid_auto_columns": null,
            "grid_auto_flow": null,
            "grid_auto_rows": null,
            "grid_column": null,
            "grid_gap": null,
            "grid_row": null,
            "grid_template_areas": null,
            "grid_template_columns": null,
            "grid_template_rows": null,
            "height": null,
            "justify_content": null,
            "justify_items": null,
            "left": null,
            "margin": null,
            "max_height": null,
            "max_width": null,
            "min_height": null,
            "min_width": null,
            "object_fit": null,
            "object_position": null,
            "order": null,
            "overflow": null,
            "overflow_x": null,
            "overflow_y": null,
            "padding": null,
            "right": null,
            "top": null,
            "visibility": null,
            "width": null
          }
        },
        "5588cb57910b47339b31f0437231fcad": {
          "model_module": "@jupyter-widgets/controls",
          "model_name": "DescriptionStyleModel",
          "model_module_version": "1.5.0",
          "state": {
            "_model_module": "@jupyter-widgets/controls",
            "_model_module_version": "1.5.0",
            "_model_name": "DescriptionStyleModel",
            "_view_count": null,
            "_view_module": "@jupyter-widgets/base",
            "_view_module_version": "1.2.0",
            "_view_name": "StyleView",
            "description_width": ""
          }
        },
        "18efa44742ab4addb96b358a0037eb31": {
          "model_module": "@jupyter-widgets/controls",
          "model_name": "HBoxModel",
          "model_module_version": "1.5.0",
          "state": {
            "_dom_classes": [],
            "_model_module": "@jupyter-widgets/controls",
            "_model_module_version": "1.5.0",
            "_model_name": "HBoxModel",
            "_view_count": null,
            "_view_module": "@jupyter-widgets/controls",
            "_view_module_version": "1.5.0",
            "_view_name": "HBoxView",
            "box_style": "",
            "children": [
              "IPY_MODEL_2c6b3de4825a4141b58a0cf739c21a5e",
              "IPY_MODEL_9a7f89d337424746a19681395c122216",
              "IPY_MODEL_5f2e91a2e14244bbba3d31fcbdf0b499"
            ],
            "layout": "IPY_MODEL_66fa604d05804ab29390363dd64f1671"
          }
        },
        "2c6b3de4825a4141b58a0cf739c21a5e": {
          "model_module": "@jupyter-widgets/controls",
          "model_name": "HTMLModel",
          "model_module_version": "1.5.0",
          "state": {
            "_dom_classes": [],
            "_model_module": "@jupyter-widgets/controls",
            "_model_module_version": "1.5.0",
            "_model_name": "HTMLModel",
            "_view_count": null,
            "_view_module": "@jupyter-widgets/controls",
            "_view_module_version": "1.5.0",
            "_view_name": "HTMLView",
            "description": "",
            "description_tooltip": null,
            "layout": "IPY_MODEL_e68cbf0629884ba298ac5edb50f0a183",
            "placeholder": "​",
            "style": "IPY_MODEL_79746963b88748438f678ef1976e9564",
            "value": " 49%"
          }
        },
        "9a7f89d337424746a19681395c122216": {
          "model_module": "@jupyter-widgets/controls",
          "model_name": "FloatProgressModel",
          "model_module_version": "1.5.0",
          "state": {
            "_dom_classes": [],
            "_model_module": "@jupyter-widgets/controls",
            "_model_module_version": "1.5.0",
            "_model_name": "FloatProgressModel",
            "_view_count": null,
            "_view_module": "@jupyter-widgets/controls",
            "_view_module_version": "1.5.0",
            "_view_name": "ProgressView",
            "bar_style": "danger",
            "description": "",
            "description_tooltip": null,
            "layout": "IPY_MODEL_0e1c975daa96457297a354b5a583abdd",
            "max": 469,
            "min": 0,
            "orientation": "horizontal",
            "style": "IPY_MODEL_4f212ae15f384ff294300a43e71cba4a",
            "value": 232
          }
        },
        "5f2e91a2e14244bbba3d31fcbdf0b499": {
          "model_module": "@jupyter-widgets/controls",
          "model_name": "HTMLModel",
          "model_module_version": "1.5.0",
          "state": {
            "_dom_classes": [],
            "_model_module": "@jupyter-widgets/controls",
            "_model_module_version": "1.5.0",
            "_model_name": "HTMLModel",
            "_view_count": null,
            "_view_module": "@jupyter-widgets/controls",
            "_view_module_version": "1.5.0",
            "_view_name": "HTMLView",
            "description": "",
            "description_tooltip": null,
            "layout": "IPY_MODEL_e7593bf620354deab56af8da45ac8c19",
            "placeholder": "​",
            "style": "IPY_MODEL_0efcb7101e354042a8434e274b2835a4",
            "value": " 231/469 [00:26&lt;00:24,  9.67it/s]"
          }
        },
        "66fa604d05804ab29390363dd64f1671": {
          "model_module": "@jupyter-widgets/base",
          "model_name": "LayoutModel",
          "model_module_version": "1.2.0",
          "state": {
            "_model_module": "@jupyter-widgets/base",
            "_model_module_version": "1.2.0",
            "_model_name": "LayoutModel",
            "_view_count": null,
            "_view_module": "@jupyter-widgets/base",
            "_view_module_version": "1.2.0",
            "_view_name": "LayoutView",
            "align_content": null,
            "align_items": null,
            "align_self": null,
            "border": null,
            "bottom": null,
            "display": null,
            "flex": null,
            "flex_flow": null,
            "grid_area": null,
            "grid_auto_columns": null,
            "grid_auto_flow": null,
            "grid_auto_rows": null,
            "grid_column": null,
            "grid_gap": null,
            "grid_row": null,
            "grid_template_areas": null,
            "grid_template_columns": null,
            "grid_template_rows": null,
            "height": null,
            "justify_content": null,
            "justify_items": null,
            "left": null,
            "margin": null,
            "max_height": null,
            "max_width": null,
            "min_height": null,
            "min_width": null,
            "object_fit": null,
            "object_position": null,
            "order": null,
            "overflow": null,
            "overflow_x": null,
            "overflow_y": null,
            "padding": null,
            "right": null,
            "top": null,
            "visibility": null,
            "width": null
          }
        },
        "e68cbf0629884ba298ac5edb50f0a183": {
          "model_module": "@jupyter-widgets/base",
          "model_name": "LayoutModel",
          "model_module_version": "1.2.0",
          "state": {
            "_model_module": "@jupyter-widgets/base",
            "_model_module_version": "1.2.0",
            "_model_name": "LayoutModel",
            "_view_count": null,
            "_view_module": "@jupyter-widgets/base",
            "_view_module_version": "1.2.0",
            "_view_name": "LayoutView",
            "align_content": null,
            "align_items": null,
            "align_self": null,
            "border": null,
            "bottom": null,
            "display": null,
            "flex": null,
            "flex_flow": null,
            "grid_area": null,
            "grid_auto_columns": null,
            "grid_auto_flow": null,
            "grid_auto_rows": null,
            "grid_column": null,
            "grid_gap": null,
            "grid_row": null,
            "grid_template_areas": null,
            "grid_template_columns": null,
            "grid_template_rows": null,
            "height": null,
            "justify_content": null,
            "justify_items": null,
            "left": null,
            "margin": null,
            "max_height": null,
            "max_width": null,
            "min_height": null,
            "min_width": null,
            "object_fit": null,
            "object_position": null,
            "order": null,
            "overflow": null,
            "overflow_x": null,
            "overflow_y": null,
            "padding": null,
            "right": null,
            "top": null,
            "visibility": null,
            "width": null
          }
        },
        "79746963b88748438f678ef1976e9564": {
          "model_module": "@jupyter-widgets/controls",
          "model_name": "DescriptionStyleModel",
          "model_module_version": "1.5.0",
          "state": {
            "_model_module": "@jupyter-widgets/controls",
            "_model_module_version": "1.5.0",
            "_model_name": "DescriptionStyleModel",
            "_view_count": null,
            "_view_module": "@jupyter-widgets/base",
            "_view_module_version": "1.2.0",
            "_view_name": "StyleView",
            "description_width": ""
          }
        },
        "0e1c975daa96457297a354b5a583abdd": {
          "model_module": "@jupyter-widgets/base",
          "model_name": "LayoutModel",
          "model_module_version": "1.2.0",
          "state": {
            "_model_module": "@jupyter-widgets/base",
            "_model_module_version": "1.2.0",
            "_model_name": "LayoutModel",
            "_view_count": null,
            "_view_module": "@jupyter-widgets/base",
            "_view_module_version": "1.2.0",
            "_view_name": "LayoutView",
            "align_content": null,
            "align_items": null,
            "align_self": null,
            "border": null,
            "bottom": null,
            "display": null,
            "flex": null,
            "flex_flow": null,
            "grid_area": null,
            "grid_auto_columns": null,
            "grid_auto_flow": null,
            "grid_auto_rows": null,
            "grid_column": null,
            "grid_gap": null,
            "grid_row": null,
            "grid_template_areas": null,
            "grid_template_columns": null,
            "grid_template_rows": null,
            "height": null,
            "justify_content": null,
            "justify_items": null,
            "left": null,
            "margin": null,
            "max_height": null,
            "max_width": null,
            "min_height": null,
            "min_width": null,
            "object_fit": null,
            "object_position": null,
            "order": null,
            "overflow": null,
            "overflow_x": null,
            "overflow_y": null,
            "padding": null,
            "right": null,
            "top": null,
            "visibility": null,
            "width": null
          }
        },
        "4f212ae15f384ff294300a43e71cba4a": {
          "model_module": "@jupyter-widgets/controls",
          "model_name": "ProgressStyleModel",
          "model_module_version": "1.5.0",
          "state": {
            "_model_module": "@jupyter-widgets/controls",
            "_model_module_version": "1.5.0",
            "_model_name": "ProgressStyleModel",
            "_view_count": null,
            "_view_module": "@jupyter-widgets/base",
            "_view_module_version": "1.2.0",
            "_view_name": "StyleView",
            "bar_color": null,
            "description_width": ""
          }
        },
        "e7593bf620354deab56af8da45ac8c19": {
          "model_module": "@jupyter-widgets/base",
          "model_name": "LayoutModel",
          "model_module_version": "1.2.0",
          "state": {
            "_model_module": "@jupyter-widgets/base",
            "_model_module_version": "1.2.0",
            "_model_name": "LayoutModel",
            "_view_count": null,
            "_view_module": "@jupyter-widgets/base",
            "_view_module_version": "1.2.0",
            "_view_name": "LayoutView",
            "align_content": null,
            "align_items": null,
            "align_self": null,
            "border": null,
            "bottom": null,
            "display": null,
            "flex": null,
            "flex_flow": null,
            "grid_area": null,
            "grid_auto_columns": null,
            "grid_auto_flow": null,
            "grid_auto_rows": null,
            "grid_column": null,
            "grid_gap": null,
            "grid_row": null,
            "grid_template_areas": null,
            "grid_template_columns": null,
            "grid_template_rows": null,
            "height": null,
            "justify_content": null,
            "justify_items": null,
            "left": null,
            "margin": null,
            "max_height": null,
            "max_width": null,
            "min_height": null,
            "min_width": null,
            "object_fit": null,
            "object_position": null,
            "order": null,
            "overflow": null,
            "overflow_x": null,
            "overflow_y": null,
            "padding": null,
            "right": null,
            "top": null,
            "visibility": null,
            "width": null
          }
        },
        "0efcb7101e354042a8434e274b2835a4": {
          "model_module": "@jupyter-widgets/controls",
          "model_name": "DescriptionStyleModel",
          "model_module_version": "1.5.0",
          "state": {
            "_model_module": "@jupyter-widgets/controls",
            "_model_module_version": "1.5.0",
            "_model_name": "DescriptionStyleModel",
            "_view_count": null,
            "_view_module": "@jupyter-widgets/base",
            "_view_module_version": "1.2.0",
            "_view_name": "StyleView",
            "description_width": ""
          }
        }
      }
    }
  },
  "nbformat": 4,
  "nbformat_minor": 0
}