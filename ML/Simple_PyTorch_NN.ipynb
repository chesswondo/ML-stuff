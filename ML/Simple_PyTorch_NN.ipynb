{
  "nbformat": 4,
  "nbformat_minor": 0,
  "metadata": {
    "colab": {
      "provenance": []
    },
    "kernelspec": {
      "name": "python3",
      "display_name": "Python 3"
    },
    "language_info": {
      "name": "python"
    }
  },
  "cells": [
    {
      "cell_type": "code",
      "execution_count": null,
      "metadata": {
        "id": "Vry7Q-X3tRDt"
      },
      "outputs": [],
      "source": [
        "import numpy as np\n",
        "import torch\n",
        "import torch.nn as nn\n",
        "import torch.optim as optim"
      ]
    },
    {
      "cell_type": "code",
      "source": [
        "# load the dataset, split into input (X) and output (y) variables\n",
        "dataset = np.loadtxt('https://raw.githubusercontent.com/jbrownlee/Datasets/master/pima-indians-diabetes.data.csv', delimiter=',')\n",
        "X = dataset[:,0:8]\n",
        "y = dataset[:,8]"
      ],
      "metadata": {
        "id": "olXe8XbZtfqx"
      },
      "execution_count": null,
      "outputs": []
    },
    {
      "cell_type": "code",
      "source": [
        "X = torch.tensor(X, dtype=torch.float32)\n",
        "y = torch.tensor(y, dtype=torch.float32).reshape(-1, 1)"
      ],
      "metadata": {
        "id": "YsTvpu_jtoLf"
      },
      "execution_count": null,
      "outputs": []
    },
    {
      "cell_type": "code",
      "source": [
        "model = nn.Sequential(\n",
        "    nn.Linear(8, 12),\n",
        "    nn.ReLU(),\n",
        "    nn.Linear(12, 8),\n",
        "    nn.ReLU(),\n",
        "    nn.Linear(8, 1),\n",
        "    nn.Sigmoid())\n",
        "\n",
        "print(model)"
      ],
      "metadata": {
        "colab": {
          "base_uri": "https://localhost:8080/"
        },
        "id": "f8kMpRp-tsNr",
        "outputId": "20db6cb8-8d53-4a5a-c267-af4d3088a691"
      },
      "execution_count": null,
      "outputs": [
        {
          "output_type": "stream",
          "name": "stdout",
          "text": [
            "Sequential(\n",
            "  (0): Linear(in_features=8, out_features=12, bias=True)\n",
            "  (1): ReLU()\n",
            "  (2): Linear(in_features=12, out_features=8, bias=True)\n",
            "  (3): ReLU()\n",
            "  (4): Linear(in_features=8, out_features=1, bias=True)\n",
            "  (5): Sigmoid()\n",
            ")\n"
          ]
        }
      ]
    },
    {
      "cell_type": "code",
      "source": [
        "#or another variant that is more verbose\n",
        "class PimaClassifier(nn.Module):\n",
        "    def __init__(self):\n",
        "        super().__init__()\n",
        "        self.hidden1 = nn.Linear(8, 12)\n",
        "        self.act1 = nn.ReLU()\n",
        "        self.hidden2 = nn.Linear(12, 8)\n",
        "        self.act2 = nn.ReLU()\n",
        "        self.output = nn.Linear(8, 1)\n",
        "        self.act_output = nn.Sigmoid()\n",
        "\n",
        "    def forward(self, x):\n",
        "        x = self.act1(self.hidden1(x))\n",
        "        x = self.act2(self.hidden2(x))\n",
        "        x = self.act_output(self.output(x))\n",
        "        return x\n",
        "\n",
        "model = PimaClassifier()\n",
        "print(model)"
      ],
      "metadata": {
        "colab": {
          "base_uri": "https://localhost:8080/"
        },
        "id": "Ca-xOXxEvw3d",
        "outputId": "8af1a9a7-9db8-4172-b35b-fdfb3d521225"
      },
      "execution_count": null,
      "outputs": [
        {
          "output_type": "stream",
          "name": "stdout",
          "text": [
            "PimaClassifier(\n",
            "  (hidden1): Linear(in_features=8, out_features=12, bias=True)\n",
            "  (act1): ReLU()\n",
            "  (hidden2): Linear(in_features=12, out_features=8, bias=True)\n",
            "  (act2): ReLU()\n",
            "  (output): Linear(in_features=8, out_features=1, bias=True)\n",
            "  (act_output): Sigmoid()\n",
            ")\n"
          ]
        }
      ]
    },
    {
      "cell_type": "code",
      "source": [
        "loss_fn = nn.BCELoss()  # binary cross entropy\n",
        "optimizer = optim.Adam(model.parameters(), lr=0.001)"
      ],
      "metadata": {
        "id": "4SZWovTzw4Ga"
      },
      "execution_count": null,
      "outputs": []
    },
    {
      "cell_type": "code",
      "source": [
        "n_epochs = 100\n",
        "batch_size = 10\n",
        "\n",
        "for epoch in range(n_epochs):\n",
        "    for i in range(0, len(X), batch_size):\n",
        "        Xbatch = X[i:i+batch_size]\n",
        "        y_pred = model(Xbatch)\n",
        "        ybatch = y[i:i+batch_size]\n",
        "        loss = loss_fn(y_pred, ybatch)\n",
        "        optimizer.zero_grad()\n",
        "        loss.backward()\n",
        "        optimizer.step()\n",
        "    print(f'Finished epoch {epoch}, latest loss {loss}')"
      ],
      "metadata": {
        "colab": {
          "base_uri": "https://localhost:8080/"
        },
        "id": "eTjxnuGyw5ey",
        "outputId": "36729569-9fdf-4360-b87f-65233b9bb069"
      },
      "execution_count": null,
      "outputs": [
        {
          "output_type": "stream",
          "name": "stdout",
          "text": [
            "Finished epoch 0, latest loss 0.4185749292373657\n",
            "Finished epoch 1, latest loss 0.4027652144432068\n",
            "Finished epoch 2, latest loss 0.38499656319618225\n",
            "Finished epoch 3, latest loss 0.38397151231765747\n",
            "Finished epoch 4, latest loss 0.39072608947753906\n",
            "Finished epoch 5, latest loss 0.3688112795352936\n",
            "Finished epoch 6, latest loss 0.3759819567203522\n",
            "Finished epoch 7, latest loss 0.3709724247455597\n",
            "Finished epoch 8, latest loss 0.3715597987174988\n",
            "Finished epoch 9, latest loss 0.3733295202255249\n",
            "Finished epoch 10, latest loss 0.3703201115131378\n",
            "Finished epoch 11, latest loss 0.37194424867630005\n",
            "Finished epoch 12, latest loss 0.3704202175140381\n",
            "Finished epoch 13, latest loss 0.3901057839393616\n",
            "Finished epoch 14, latest loss 0.3813927173614502\n",
            "Finished epoch 15, latest loss 0.3757539689540863\n",
            "Finished epoch 16, latest loss 0.37267300486564636\n",
            "Finished epoch 17, latest loss 0.3619169294834137\n",
            "Finished epoch 18, latest loss 0.3704313337802887\n",
            "Finished epoch 19, latest loss 0.37330320477485657\n",
            "Finished epoch 20, latest loss 0.3657186031341553\n",
            "Finished epoch 21, latest loss 0.37312716245651245\n",
            "Finished epoch 22, latest loss 0.37038636207580566\n",
            "Finished epoch 23, latest loss 0.3908602297306061\n",
            "Finished epoch 24, latest loss 0.3906070590019226\n",
            "Finished epoch 25, latest loss 0.38426265120506287\n",
            "Finished epoch 26, latest loss 0.38387560844421387\n",
            "Finished epoch 27, latest loss 0.3826206922531128\n",
            "Finished epoch 28, latest loss 0.38308948278427124\n",
            "Finished epoch 29, latest loss 0.37769946455955505\n",
            "Finished epoch 30, latest loss 0.3932745158672333\n",
            "Finished epoch 31, latest loss 0.3931516408920288\n",
            "Finished epoch 32, latest loss 0.3786674737930298\n",
            "Finished epoch 33, latest loss 0.3958602547645569\n",
            "Finished epoch 34, latest loss 0.39986652135849\n",
            "Finished epoch 35, latest loss 0.3776206374168396\n",
            "Finished epoch 36, latest loss 0.37664204835891724\n",
            "Finished epoch 37, latest loss 0.3790479898452759\n",
            "Finished epoch 38, latest loss 0.38365423679351807\n",
            "Finished epoch 39, latest loss 0.3863794505596161\n",
            "Finished epoch 40, latest loss 0.3824944496154785\n",
            "Finished epoch 41, latest loss 0.38192498683929443\n",
            "Finished epoch 42, latest loss 0.3811573088169098\n",
            "Finished epoch 43, latest loss 0.37901565432548523\n",
            "Finished epoch 44, latest loss 0.3797999322414398\n",
            "Finished epoch 45, latest loss 0.3755095899105072\n",
            "Finished epoch 46, latest loss 0.3748195767402649\n",
            "Finished epoch 47, latest loss 0.3716244399547577\n",
            "Finished epoch 48, latest loss 0.370563805103302\n",
            "Finished epoch 49, latest loss 0.36867472529411316\n",
            "Finished epoch 50, latest loss 0.3679063618183136\n",
            "Finished epoch 51, latest loss 0.3696710467338562\n",
            "Finished epoch 52, latest loss 0.36774277687072754\n",
            "Finished epoch 53, latest loss 0.3679296672344208\n",
            "Finished epoch 54, latest loss 0.363361656665802\n",
            "Finished epoch 55, latest loss 0.3640283942222595\n",
            "Finished epoch 56, latest loss 0.362878680229187\n",
            "Finished epoch 57, latest loss 0.3567698001861572\n",
            "Finished epoch 58, latest loss 0.35167038440704346\n",
            "Finished epoch 59, latest loss 0.34812667965888977\n",
            "Finished epoch 60, latest loss 0.3447921574115753\n",
            "Finished epoch 61, latest loss 0.3432796895503998\n",
            "Finished epoch 62, latest loss 0.3498917818069458\n",
            "Finished epoch 63, latest loss 0.3464431166648865\n",
            "Finished epoch 64, latest loss 0.344417542219162\n",
            "Finished epoch 65, latest loss 0.3417662978172302\n",
            "Finished epoch 66, latest loss 0.3404522240161896\n",
            "Finished epoch 67, latest loss 0.339189738035202\n",
            "Finished epoch 68, latest loss 0.3387664556503296\n",
            "Finished epoch 69, latest loss 0.33887967467308044\n",
            "Finished epoch 70, latest loss 0.33854955434799194\n",
            "Finished epoch 71, latest loss 0.33059731125831604\n",
            "Finished epoch 72, latest loss 0.33296942710876465\n",
            "Finished epoch 73, latest loss 0.3317074775695801\n",
            "Finished epoch 74, latest loss 0.3293556869029999\n",
            "Finished epoch 75, latest loss 0.32914966344833374\n",
            "Finished epoch 76, latest loss 0.3249688744544983\n",
            "Finished epoch 77, latest loss 0.32485589385032654\n",
            "Finished epoch 78, latest loss 0.3240967392921448\n",
            "Finished epoch 79, latest loss 0.31929513812065125\n",
            "Finished epoch 80, latest loss 0.32161298394203186\n",
            "Finished epoch 81, latest loss 0.31585222482681274\n",
            "Finished epoch 82, latest loss 0.31971025466918945\n",
            "Finished epoch 83, latest loss 0.3189375400543213\n",
            "Finished epoch 84, latest loss 0.3175809383392334\n",
            "Finished epoch 85, latest loss 0.31110453605651855\n",
            "Finished epoch 86, latest loss 0.31027376651763916\n",
            "Finished epoch 87, latest loss 0.30958014726638794\n",
            "Finished epoch 88, latest loss 0.3144597113132477\n",
            "Finished epoch 89, latest loss 0.30960404872894287\n",
            "Finished epoch 90, latest loss 0.3082638680934906\n",
            "Finished epoch 91, latest loss 0.30889323353767395\n",
            "Finished epoch 92, latest loss 0.3109208643436432\n",
            "Finished epoch 93, latest loss 0.30758851766586304\n",
            "Finished epoch 94, latest loss 0.31527093052864075\n",
            "Finished epoch 95, latest loss 0.3052404224872589\n",
            "Finished epoch 96, latest loss 0.3076592981815338\n",
            "Finished epoch 97, latest loss 0.30848947167396545\n",
            "Finished epoch 98, latest loss 0.310424268245697\n",
            "Finished epoch 99, latest loss 0.31037697196006775\n"
          ]
        }
      ]
    },
    {
      "cell_type": "code",
      "source": [
        "# compute accuracy (no_grad is optional)\n",
        "with torch.no_grad():\n",
        "    y_pred = model(X)\n",
        "\n",
        "accuracy = (y_pred.round() == y).float().mean()\n",
        "print(f\"Accuracy {accuracy}\")"
      ],
      "metadata": {
        "colab": {
          "base_uri": "https://localhost:8080/"
        },
        "id": "yPOp21ElzaG5",
        "outputId": "b14f725f-240f-417c-8c2e-6324d3da9c09"
      },
      "execution_count": null,
      "outputs": [
        {
          "output_type": "stream",
          "name": "stdout",
          "text": [
            "Accuracy 0.7604166865348816\n"
          ]
        }
      ]
    },
    {
      "cell_type": "code",
      "source": [
        "# make class predictions with the model\n",
        "predictions = (model(X) > 0.5).int()\n",
        "for i in range(5):\n",
        "    print('%s => %d (expected %d)' % (X[i].tolist(), predictions[i], y[i]))"
      ],
      "metadata": {
        "colab": {
          "base_uri": "https://localhost:8080/"
        },
        "id": "qnDxvJ4jzuTj",
        "outputId": "263bd745-1195-4c31-a7c6-da0fee149909"
      },
      "execution_count": null,
      "outputs": [
        {
          "output_type": "stream",
          "name": "stdout",
          "text": [
            "[6.0, 148.0, 72.0, 35.0, 0.0, 33.599998474121094, 0.6269999742507935, 50.0] => 1 (expected 1)\n",
            "[1.0, 85.0, 66.0, 29.0, 0.0, 26.600000381469727, 0.35100001096725464, 31.0] => 0 (expected 0)\n",
            "[8.0, 183.0, 64.0, 0.0, 0.0, 23.299999237060547, 0.671999990940094, 32.0] => 1 (expected 1)\n",
            "[1.0, 89.0, 66.0, 23.0, 94.0, 28.100000381469727, 0.16699999570846558, 21.0] => 0 (expected 0)\n",
            "[0.0, 137.0, 40.0, 35.0, 168.0, 43.099998474121094, 2.2880001068115234, 33.0] => 1 (expected 1)\n"
          ]
        }
      ]
    }
  ]
}